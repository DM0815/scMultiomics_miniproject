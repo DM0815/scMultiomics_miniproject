{
 "cells": [
  {
   "cell_type": "code",
   "execution_count": null,
   "metadata": {},
   "outputs": [],
   "source": [
    "import numpy as np \n",
    "import pandas as pd "
   ]
  },
  {
   "cell_type": "code",
   "execution_count": 36,
   "metadata": {},
   "outputs": [],
   "source": [
    "###multi train_df \n",
    "train_multi_inputs_id = pd.read_hdf('../dataset/train_multi_inputs.h5').reset_index()[['cell_id']]\n",
    "metadata = pd.read_csv('../dataset/metadata.csv')\n",
    "train_multi_inputs_id = train_multi_inputs_id.merge(metadata,on=['cell_id'],how='left')\n",
    "train_multi_inputs_id = train_multi_inputs_id.drop(['technology'],axis=1)\n",
    "train_multi_inputs_id.to_feather('../dataset/train_multi_inputs_id.feather')"
   ]
  },
  {
   "cell_type": "code",
   "execution_count": 37,
   "metadata": {},
   "outputs": [],
   "source": [
    "###multi test_df \n",
    "test_multi_inputs_id = pd.read_hdf('../dataset/test_multi_inputs.h5').reset_index()[['cell_id']]\n",
    "test_multi_inputs_id = test_multi_inputs_id.merge(metadata,on=['cell_id'],how='left')\n",
    "test_multi_inputs_id = test_multi_inputs_id.drop(['technology'],axis=1)\n",
    "test_multi_inputs_id.to_feather('../dataset/test_multi_inputs_id.feather')"
   ]
  },
  {
   "cell_type": "code",
   "execution_count": 2,
   "metadata": {},
   "outputs": [],
   "source": [
    "###train_target  save target to numpy\n",
    "train_multi_targets = pd.read_hdf('../dataset/train_multi_targets.h5').reset_index(drop=True)\n",
    "np.save('../dataset/train_multi_targets.npy', train_multi_targets)"
   ]
  },
  {
   "cell_type": "code",
   "execution_count": 5,
   "metadata": {},
   "outputs": [
    {
     "data": {
      "text/plain": [
       "(105942, 23418)"
      ]
     },
     "execution_count": 5,
     "metadata": {},
     "output_type": "execute_result"
    }
   ],
   "source": [
    "train_multi_targets.shape"
   ]
  },
  {
   "cell_type": "code",
   "execution_count": 4,
   "metadata": {},
   "outputs": [],
   "source": [
    "train_cite_targets = pd.read_hdf('../dataset/train_cite_targets.h5').reset_index(drop=True)\n",
    "np.save('../dataset/train_cite_targets0608.npy', train_cite_targets) ######Test to see how much memory cite's train_target takes up"
   ]
  },
  {
   "cell_type": "code",
   "execution_count": 6,
   "metadata": {},
   "outputs": [
    {
     "data": {
      "text/plain": [
       "(70988, 140)"
      ]
     },
     "execution_count": 6,
     "metadata": {},
     "output_type": "execute_result"
    }
   ],
   "source": [
    "train_cite_targets.shape"
   ]
  },
  {
   "cell_type": "code",
   "execution_count": null,
   "metadata": {},
   "outputs": [],
   "source": [
    "###trian celltype to label"
   ]
  },
  {
   "cell_type": "code",
   "execution_count": 10,
   "metadata": {},
   "outputs": [],
   "source": [
    "train_multi_inputs_id = pd.read_hdf('../dataset/train_multi_inputs.h5').reset_index()[['cell_id']]\n",
    "metadata = pd.read_csv('../dataset/metadata.csv')\n",
    "train_multi_inputs_id = train_multi_inputs_id.merge(metadata,on=['cell_id'],how='left')\n",
    "train_multi_inputs_id['category_num'] = pd.factorize(train_multi_inputs_id['cell_type'])[0]\n",
    "np.save('../dataset/train_multi_inputs_celltype.npy', train_multi_inputs_id['category_num'].values)"
   ]
  },
  {
   "cell_type": "code",
   "execution_count": 11,
   "metadata": {},
   "outputs": [],
   "source": [
    "train_cite_inputs_id = pd.read_hdf('../dataset/train_cite_inputs.h5').reset_index()[['cell_id']]\n",
    "metadata = pd.read_csv('../dataset/metadata.csv')\n",
    "train_cite_inputs_id = train_cite_inputs_id.merge(metadata,on=['cell_id'],how='left')\n",
    "train_cite_inputs_id['category_num'] = pd.factorize(train_cite_inputs_id['cell_type'])[0]\n",
    "np.save('../dataset/train_cite_inputs_celltype.npy', train_cite_inputs_id['category_num'].values)"
   ]
  },
  {
   "cell_type": "markdown",
   "metadata": {},
   "source": [
    "# Load feature and target"
   ]
  },
  {
   "cell_type": "code",
   "execution_count": 1,
   "metadata": {
    "tags": []
   },
   "outputs": [
    {
     "name": "stdout",
     "output_type": "stream",
     "text": [
      "CPU times: user 970 ms, sys: 3.07 s, total: 4.04 s\n",
      "Wall time: 857 ms\n"
     ]
    }
   ],
   "source": [
    "%%time\n",
    "feature_path = '../dataset/'\n",
    "\n",
    "train_df = pd.read_feather(feature_path+'train_cite_inputs_id.feather')\n",
    "test_df = pd.read_feather(feature_path+'test_cite_inputs_id.feather')\n",
    "train_cite_X = np.load(feature_path+'train_cite_X.npy')\n",
    "test_cite_X = np.load(feature_path+'test_cite_X.npy')\n",
    "train_cite_y = np.load(feature_path+'train_cite_targets.npy')  "
   ]
  },
  {
   "cell_type": "code",
   "execution_count": 3,
   "metadata": {
    "tags": []
   },
   "outputs": [
    {
     "data": {
      "text/plain": [
       "((70988, 4), (48663, 4), (70988, 1009), (48663, 1009), (70988, 140))"
      ]
     },
     "execution_count": 3,
     "metadata": {},
     "output_type": "execute_result"
    }
   ],
   "source": [
    "train_df.shape,test_df.shape,train_cite_X.shape,test_cite_X.shape,train_cite_y.shape"
   ]
  },
  {
   "cell_type": "code",
   "execution_count": 24,
   "metadata": {},
   "outputs": [
    {
     "data": {
      "text/plain": [
       "array([[ 0.0946045 , -0.16236244, -0.4053319 , ..., -0.26049733,\n",
       "         0.38325766, -0.1974526 ],\n",
       "       [-0.25125074, -0.35797045, -0.16268891, ..., -0.19555233,\n",
       "         0.40263   ,  0.21424632],\n",
       "       [-0.5045346 , -0.52717906, -0.6661142 , ..., -0.7899379 ,\n",
       "         0.98586226,  0.6095204 ],\n",
       "       ...,\n",
       "       [-0.21439946, -0.42171356, -0.15420535, ..., -0.28104922,\n",
       "         1.3694407 ,  0.39634088],\n",
       "       [-0.5920456 , -0.85295653, -0.3631059 , ..., -0.15817979,\n",
       "         0.1609816 ,  0.7527571 ],\n",
       "       [-0.64900035, -0.6185921 , -0.27466986, ..., -0.3303311 ,\n",
       "         1.6578442 ,  0.4573473 ]], dtype=float32)"
      ]
     },
     "execution_count": 24,
     "metadata": {},
     "output_type": "execute_result"
    }
   ],
   "source": [
    "train_cite_y"
   ]
  },
  {
   "cell_type": "code",
   "execution_count": 17,
   "metadata": {
    "collapsed": true,
    "jupyter": {
     "outputs_hidden": true
    },
    "tags": []
   },
   "outputs": [
    {
     "data": {
      "text/html": [
       "<div>\n",
       "<style scoped>\n",
       "    .dataframe tbody tr th:only-of-type {\n",
       "        vertical-align: middle;\n",
       "    }\n",
       "\n",
       "    .dataframe tbody tr th {\n",
       "        vertical-align: top;\n",
       "    }\n",
       "\n",
       "    .dataframe thead th {\n",
       "        text-align: right;\n",
       "    }\n",
       "</style>\n",
       "<table border=\"1\" class=\"dataframe\">\n",
       "  <thead>\n",
       "    <tr style=\"text-align: right;\">\n",
       "      <th></th>\n",
       "      <th>row_id</th>\n",
       "      <th>cell_id</th>\n",
       "      <th>gene_id</th>\n",
       "    </tr>\n",
       "  </thead>\n",
       "  <tbody>\n",
       "    <tr>\n",
       "      <th>0</th>\n",
       "      <td>0</td>\n",
       "      <td>c2150f55becb</td>\n",
       "      <td>CD86</td>\n",
       "    </tr>\n",
       "    <tr>\n",
       "      <th>1</th>\n",
       "      <td>1</td>\n",
       "      <td>c2150f55becb</td>\n",
       "      <td>CD274</td>\n",
       "    </tr>\n",
       "    <tr>\n",
       "      <th>2</th>\n",
       "      <td>2</td>\n",
       "      <td>c2150f55becb</td>\n",
       "      <td>CD270</td>\n",
       "    </tr>\n",
       "    <tr>\n",
       "      <th>3</th>\n",
       "      <td>3</td>\n",
       "      <td>c2150f55becb</td>\n",
       "      <td>CD155</td>\n",
       "    </tr>\n",
       "    <tr>\n",
       "      <th>4</th>\n",
       "      <td>4</td>\n",
       "      <td>c2150f55becb</td>\n",
       "      <td>CD112</td>\n",
       "    </tr>\n",
       "    <tr>\n",
       "      <th>...</th>\n",
       "      <td>...</td>\n",
       "      <td>...</td>\n",
       "      <td>...</td>\n",
       "    </tr>\n",
       "    <tr>\n",
       "      <th>65744175</th>\n",
       "      <td>65744175</td>\n",
       "      <td>2c53aa67933d</td>\n",
       "      <td>ENSG00000134419</td>\n",
       "    </tr>\n",
       "    <tr>\n",
       "      <th>65744176</th>\n",
       "      <td>65744176</td>\n",
       "      <td>2c53aa67933d</td>\n",
       "      <td>ENSG00000186862</td>\n",
       "    </tr>\n",
       "    <tr>\n",
       "      <th>65744177</th>\n",
       "      <td>65744177</td>\n",
       "      <td>2c53aa67933d</td>\n",
       "      <td>ENSG00000170959</td>\n",
       "    </tr>\n",
       "    <tr>\n",
       "      <th>65744178</th>\n",
       "      <td>65744178</td>\n",
       "      <td>2c53aa67933d</td>\n",
       "      <td>ENSG00000107874</td>\n",
       "    </tr>\n",
       "    <tr>\n",
       "      <th>65744179</th>\n",
       "      <td>65744179</td>\n",
       "      <td>2c53aa67933d</td>\n",
       "      <td>ENSG00000166012</td>\n",
       "    </tr>\n",
       "  </tbody>\n",
       "</table>\n",
       "<p>65744180 rows × 3 columns</p>\n",
       "</div>"
      ],
      "text/plain": [
       "            row_id       cell_id          gene_id\n",
       "0                0  c2150f55becb             CD86\n",
       "1                1  c2150f55becb            CD274\n",
       "2                2  c2150f55becb            CD270\n",
       "3                3  c2150f55becb            CD155\n",
       "4                4  c2150f55becb            CD112\n",
       "...            ...           ...              ...\n",
       "65744175  65744175  2c53aa67933d  ENSG00000134419\n",
       "65744176  65744176  2c53aa67933d  ENSG00000186862\n",
       "65744177  65744177  2c53aa67933d  ENSG00000170959\n",
       "65744178  65744178  2c53aa67933d  ENSG00000107874\n",
       "65744179  65744179  2c53aa67933d  ENSG00000166012\n",
       "\n",
       "[65744180 rows x 3 columns]"
      ]
     },
     "execution_count": 17,
     "metadata": {},
     "output_type": "execute_result"
    }
   ],
   "source": [
    "df = pd.read_csv('../dataset/evaluation_ids.csv')\n",
    "df"
   ]
  },
  {
   "cell_type": "code",
   "execution_count": 19,
   "metadata": {},
   "outputs": [
    {
     "data": {
      "text/plain": [
       "(65443, 23558)"
      ]
     },
     "execution_count": 19,
     "metadata": {},
     "output_type": "execute_result"
    }
   ],
   "source": [
    "len(df['cell_id'].unique()),len(df['gene_id'].unique())"
   ]
  },
  {
   "cell_type": "code",
   "execution_count": 21,
   "metadata": {
    "collapsed": true,
    "jupyter": {
     "outputs_hidden": true
    },
    "tags": []
   },
   "outputs": [
    {
     "data": {
      "text/html": [
       "<div>\n",
       "<style scoped>\n",
       "    .dataframe tbody tr th:only-of-type {\n",
       "        vertical-align: middle;\n",
       "    }\n",
       "\n",
       "    .dataframe tbody tr th {\n",
       "        vertical-align: top;\n",
       "    }\n",
       "\n",
       "    .dataframe thead th {\n",
       "        text-align: right;\n",
       "    }\n",
       "</style>\n",
       "<table border=\"1\" class=\"dataframe\">\n",
       "  <thead>\n",
       "    <tr style=\"text-align: right;\">\n",
       "      <th></th>\n",
       "      <th>cell_id</th>\n",
       "      <th>day</th>\n",
       "      <th>donor</th>\n",
       "      <th>cell_type</th>\n",
       "      <th>technology</th>\n",
       "    </tr>\n",
       "  </thead>\n",
       "  <tbody>\n",
       "    <tr>\n",
       "      <th>0</th>\n",
       "      <td>c2150f55becb</td>\n",
       "      <td>2</td>\n",
       "      <td>27678</td>\n",
       "      <td>HSC</td>\n",
       "      <td>citeseq</td>\n",
       "    </tr>\n",
       "    <tr>\n",
       "      <th>1</th>\n",
       "      <td>65b7edf8a4da</td>\n",
       "      <td>2</td>\n",
       "      <td>27678</td>\n",
       "      <td>HSC</td>\n",
       "      <td>citeseq</td>\n",
       "    </tr>\n",
       "    <tr>\n",
       "      <th>2</th>\n",
       "      <td>c1b26cb1057b</td>\n",
       "      <td>2</td>\n",
       "      <td>27678</td>\n",
       "      <td>EryP</td>\n",
       "      <td>citeseq</td>\n",
       "    </tr>\n",
       "    <tr>\n",
       "      <th>3</th>\n",
       "      <td>917168fa6f83</td>\n",
       "      <td>2</td>\n",
       "      <td>27678</td>\n",
       "      <td>NeuP</td>\n",
       "      <td>citeseq</td>\n",
       "    </tr>\n",
       "    <tr>\n",
       "      <th>4</th>\n",
       "      <td>2b29feeca86d</td>\n",
       "      <td>2</td>\n",
       "      <td>27678</td>\n",
       "      <td>EryP</td>\n",
       "      <td>citeseq</td>\n",
       "    </tr>\n",
       "    <tr>\n",
       "      <th>...</th>\n",
       "      <td>...</td>\n",
       "      <td>...</td>\n",
       "      <td>...</td>\n",
       "      <td>...</td>\n",
       "      <td>...</td>\n",
       "    </tr>\n",
       "    <tr>\n",
       "      <th>281523</th>\n",
       "      <td>96a60b026659</td>\n",
       "      <td>10</td>\n",
       "      <td>31800</td>\n",
       "      <td>hidden</td>\n",
       "      <td>multiome</td>\n",
       "    </tr>\n",
       "    <tr>\n",
       "      <th>281524</th>\n",
       "      <td>d493e546991e</td>\n",
       "      <td>10</td>\n",
       "      <td>31800</td>\n",
       "      <td>hidden</td>\n",
       "      <td>multiome</td>\n",
       "    </tr>\n",
       "    <tr>\n",
       "      <th>281525</th>\n",
       "      <td>05666c99aa48</td>\n",
       "      <td>10</td>\n",
       "      <td>31800</td>\n",
       "      <td>hidden</td>\n",
       "      <td>multiome</td>\n",
       "    </tr>\n",
       "    <tr>\n",
       "      <th>281526</th>\n",
       "      <td>121f946642b5</td>\n",
       "      <td>10</td>\n",
       "      <td>31800</td>\n",
       "      <td>hidden</td>\n",
       "      <td>multiome</td>\n",
       "    </tr>\n",
       "    <tr>\n",
       "      <th>281527</th>\n",
       "      <td>b847ba21f59f</td>\n",
       "      <td>10</td>\n",
       "      <td>31800</td>\n",
       "      <td>hidden</td>\n",
       "      <td>multiome</td>\n",
       "    </tr>\n",
       "  </tbody>\n",
       "</table>\n",
       "<p>281528 rows × 5 columns</p>\n",
       "</div>"
      ],
      "text/plain": [
       "             cell_id  day  donor cell_type technology\n",
       "0       c2150f55becb    2  27678       HSC    citeseq\n",
       "1       65b7edf8a4da    2  27678       HSC    citeseq\n",
       "2       c1b26cb1057b    2  27678      EryP    citeseq\n",
       "3       917168fa6f83    2  27678      NeuP    citeseq\n",
       "4       2b29feeca86d    2  27678      EryP    citeseq\n",
       "...              ...  ...    ...       ...        ...\n",
       "281523  96a60b026659   10  31800    hidden   multiome\n",
       "281524  d493e546991e   10  31800    hidden   multiome\n",
       "281525  05666c99aa48   10  31800    hidden   multiome\n",
       "281526  121f946642b5   10  31800    hidden   multiome\n",
       "281527  b847ba21f59f   10  31800    hidden   multiome\n",
       "\n",
       "[281528 rows x 5 columns]"
      ]
     },
     "execution_count": 21,
     "metadata": {},
     "output_type": "execute_result"
    }
   ],
   "source": [
    "dff = pd.read_csv('../dataset/metadata.csv')\n",
    "dff"
   ]
  },
  {
   "cell_type": "code",
   "execution_count": 23,
   "metadata": {
    "collapsed": true,
    "jupyter": {
     "outputs_hidden": true
    },
    "tags": []
   },
   "outputs": [
    {
     "data": {
      "text/html": [
       "<div>\n",
       "<style scoped>\n",
       "    .dataframe tbody tr th:only-of-type {\n",
       "        vertical-align: middle;\n",
       "    }\n",
       "\n",
       "    .dataframe tbody tr th {\n",
       "        vertical-align: top;\n",
       "    }\n",
       "\n",
       "    .dataframe thead th {\n",
       "        text-align: right;\n",
       "    }\n",
       "</style>\n",
       "<table border=\"1\" class=\"dataframe\">\n",
       "  <thead>\n",
       "    <tr style=\"text-align: right;\">\n",
       "      <th></th>\n",
       "      <th>cell_id</th>\n",
       "      <th>day</th>\n",
       "      <th>donor</th>\n",
       "      <th>cell_type</th>\n",
       "      <th>technology</th>\n",
       "    </tr>\n",
       "  </thead>\n",
       "  <tbody>\n",
       "    <tr>\n",
       "      <th>0</th>\n",
       "      <td>c2150f55becb</td>\n",
       "      <td>2</td>\n",
       "      <td>27678</td>\n",
       "      <td>HSC</td>\n",
       "      <td>citeseq</td>\n",
       "    </tr>\n",
       "    <tr>\n",
       "      <th>1</th>\n",
       "      <td>65b7edf8a4da</td>\n",
       "      <td>2</td>\n",
       "      <td>27678</td>\n",
       "      <td>HSC</td>\n",
       "      <td>citeseq</td>\n",
       "    </tr>\n",
       "    <tr>\n",
       "      <th>2</th>\n",
       "      <td>c1b26cb1057b</td>\n",
       "      <td>2</td>\n",
       "      <td>27678</td>\n",
       "      <td>EryP</td>\n",
       "      <td>citeseq</td>\n",
       "    </tr>\n",
       "    <tr>\n",
       "      <th>3</th>\n",
       "      <td>917168fa6f83</td>\n",
       "      <td>2</td>\n",
       "      <td>27678</td>\n",
       "      <td>NeuP</td>\n",
       "      <td>citeseq</td>\n",
       "    </tr>\n",
       "    <tr>\n",
       "      <th>4</th>\n",
       "      <td>2b29feeca86d</td>\n",
       "      <td>2</td>\n",
       "      <td>27678</td>\n",
       "      <td>EryP</td>\n",
       "      <td>citeseq</td>\n",
       "    </tr>\n",
       "    <tr>\n",
       "      <th>...</th>\n",
       "      <td>...</td>\n",
       "      <td>...</td>\n",
       "      <td>...</td>\n",
       "      <td>...</td>\n",
       "      <td>...</td>\n",
       "    </tr>\n",
       "    <tr>\n",
       "      <th>119646</th>\n",
       "      <td>a9b4d99f1f50</td>\n",
       "      <td>7</td>\n",
       "      <td>31800</td>\n",
       "      <td>HSC</td>\n",
       "      <td>citeseq</td>\n",
       "    </tr>\n",
       "    <tr>\n",
       "      <th>119647</th>\n",
       "      <td>0e2c1d0782af</td>\n",
       "      <td>7</td>\n",
       "      <td>31800</td>\n",
       "      <td>HSC</td>\n",
       "      <td>citeseq</td>\n",
       "    </tr>\n",
       "    <tr>\n",
       "      <th>119648</th>\n",
       "      <td>a3cbc5aa0ec3</td>\n",
       "      <td>7</td>\n",
       "      <td>31800</td>\n",
       "      <td>MkP</td>\n",
       "      <td>citeseq</td>\n",
       "    </tr>\n",
       "    <tr>\n",
       "      <th>119649</th>\n",
       "      <td>75b350243add</td>\n",
       "      <td>7</td>\n",
       "      <td>31800</td>\n",
       "      <td>EryP</td>\n",
       "      <td>citeseq</td>\n",
       "    </tr>\n",
       "    <tr>\n",
       "      <th>119650</th>\n",
       "      <td>ad5a949989b2</td>\n",
       "      <td>7</td>\n",
       "      <td>31800</td>\n",
       "      <td>EryP</td>\n",
       "      <td>citeseq</td>\n",
       "    </tr>\n",
       "  </tbody>\n",
       "</table>\n",
       "<p>119651 rows × 5 columns</p>\n",
       "</div>"
      ],
      "text/plain": [
       "             cell_id  day  donor cell_type technology\n",
       "0       c2150f55becb    2  27678       HSC    citeseq\n",
       "1       65b7edf8a4da    2  27678       HSC    citeseq\n",
       "2       c1b26cb1057b    2  27678      EryP    citeseq\n",
       "3       917168fa6f83    2  27678      NeuP    citeseq\n",
       "4       2b29feeca86d    2  27678      EryP    citeseq\n",
       "...              ...  ...    ...       ...        ...\n",
       "119646  a9b4d99f1f50    7  31800       HSC    citeseq\n",
       "119647  0e2c1d0782af    7  31800       HSC    citeseq\n",
       "119648  a3cbc5aa0ec3    7  31800       MkP    citeseq\n",
       "119649  75b350243add    7  31800      EryP    citeseq\n",
       "119650  ad5a949989b2    7  31800      EryP    citeseq\n",
       "\n",
       "[119651 rows x 5 columns]"
      ]
     },
     "execution_count": 23,
     "metadata": {},
     "output_type": "execute_result"
    }
   ],
   "source": [
    "dff.loc[dff['technology']=='citeseq']"
   ]
  },
  {
   "cell_type": "code",
   "execution_count": 25,
   "metadata": {
    "tags": []
   },
   "outputs": [
    {
     "data": {
      "text/html": [
       "<div>\n",
       "<style scoped>\n",
       "    .dataframe tbody tr th:only-of-type {\n",
       "        vertical-align: middle;\n",
       "    }\n",
       "\n",
       "    .dataframe tbody tr th {\n",
       "        vertical-align: top;\n",
       "    }\n",
       "\n",
       "    .dataframe thead th {\n",
       "        text-align: right;\n",
       "    }\n",
       "</style>\n",
       "<table border=\"1\" class=\"dataframe\">\n",
       "  <thead>\n",
       "    <tr style=\"text-align: right;\">\n",
       "      <th></th>\n",
       "      <th>row_id</th>\n",
       "      <th>cell_id</th>\n",
       "      <th>gene_id</th>\n",
       "    </tr>\n",
       "  </thead>\n",
       "  <tbody>\n",
       "    <tr>\n",
       "      <th>0</th>\n",
       "      <td>0</td>\n",
       "      <td>c2150f55becb</td>\n",
       "      <td>CD86</td>\n",
       "    </tr>\n",
       "    <tr>\n",
       "      <th>1</th>\n",
       "      <td>1</td>\n",
       "      <td>c2150f55becb</td>\n",
       "      <td>CD274</td>\n",
       "    </tr>\n",
       "    <tr>\n",
       "      <th>2</th>\n",
       "      <td>2</td>\n",
       "      <td>c2150f55becb</td>\n",
       "      <td>CD270</td>\n",
       "    </tr>\n",
       "    <tr>\n",
       "      <th>3</th>\n",
       "      <td>3</td>\n",
       "      <td>c2150f55becb</td>\n",
       "      <td>CD155</td>\n",
       "    </tr>\n",
       "    <tr>\n",
       "      <th>4</th>\n",
       "      <td>4</td>\n",
       "      <td>c2150f55becb</td>\n",
       "      <td>CD112</td>\n",
       "    </tr>\n",
       "    <tr>\n",
       "      <th>...</th>\n",
       "      <td>...</td>\n",
       "      <td>...</td>\n",
       "      <td>...</td>\n",
       "    </tr>\n",
       "    <tr>\n",
       "      <th>65744175</th>\n",
       "      <td>65744175</td>\n",
       "      <td>2c53aa67933d</td>\n",
       "      <td>ENSG00000134419</td>\n",
       "    </tr>\n",
       "    <tr>\n",
       "      <th>65744176</th>\n",
       "      <td>65744176</td>\n",
       "      <td>2c53aa67933d</td>\n",
       "      <td>ENSG00000186862</td>\n",
       "    </tr>\n",
       "    <tr>\n",
       "      <th>65744177</th>\n",
       "      <td>65744177</td>\n",
       "      <td>2c53aa67933d</td>\n",
       "      <td>ENSG00000170959</td>\n",
       "    </tr>\n",
       "    <tr>\n",
       "      <th>65744178</th>\n",
       "      <td>65744178</td>\n",
       "      <td>2c53aa67933d</td>\n",
       "      <td>ENSG00000107874</td>\n",
       "    </tr>\n",
       "    <tr>\n",
       "      <th>65744179</th>\n",
       "      <td>65744179</td>\n",
       "      <td>2c53aa67933d</td>\n",
       "      <td>ENSG00000166012</td>\n",
       "    </tr>\n",
       "  </tbody>\n",
       "</table>\n",
       "<p>65744180 rows × 3 columns</p>\n",
       "</div>"
      ],
      "text/plain": [
       "            row_id       cell_id          gene_id\n",
       "0                0  c2150f55becb             CD86\n",
       "1                1  c2150f55becb            CD274\n",
       "2                2  c2150f55becb            CD270\n",
       "3                3  c2150f55becb            CD155\n",
       "4                4  c2150f55becb            CD112\n",
       "...            ...           ...              ...\n",
       "65744175  65744175  2c53aa67933d  ENSG00000134419\n",
       "65744176  65744176  2c53aa67933d  ENSG00000186862\n",
       "65744177  65744177  2c53aa67933d  ENSG00000170959\n",
       "65744178  65744178  2c53aa67933d  ENSG00000107874\n",
       "65744179  65744179  2c53aa67933d  ENSG00000166012\n",
       "\n",
       "[65744180 rows x 3 columns]"
      ]
     },
     "execution_count": 25,
     "metadata": {},
     "output_type": "execute_result"
    }
   ],
   "source": [
    "sub = pd.read_csv('../dataset/evaluation_ids.csv')\n",
    "sub"
   ]
  },
  {
   "cell_type": "code",
   "execution_count": 26,
   "metadata": {},
   "outputs": [
    {
     "data": {
      "text/plain": [
       "(65443, 23558)"
      ]
     },
     "execution_count": 26,
     "metadata": {},
     "output_type": "execute_result"
    }
   ],
   "source": [
    "len(sub['cell_id'].unique()),len(sub['gene_id'].unique())"
   ]
  },
  {
   "cell_type": "code",
   "execution_count": 27,
   "metadata": {
    "collapsed": true,
    "jupyter": {
     "outputs_hidden": true
    },
    "tags": []
   },
   "outputs": [
    {
     "data": {
      "text/html": [
       "<div>\n",
       "<style scoped>\n",
       "    .dataframe tbody tr th:only-of-type {\n",
       "        vertical-align: middle;\n",
       "    }\n",
       "\n",
       "    .dataframe tbody tr th {\n",
       "        vertical-align: top;\n",
       "    }\n",
       "\n",
       "    .dataframe thead th {\n",
       "        text-align: right;\n",
       "    }\n",
       "</style>\n",
       "<table border=\"1\" class=\"dataframe\">\n",
       "  <thead>\n",
       "    <tr style=\"text-align: right;\">\n",
       "      <th></th>\n",
       "      <th>row_id</th>\n",
       "      <th>cell_id</th>\n",
       "      <th>gene_id</th>\n",
       "      <th>day</th>\n",
       "      <th>donor</th>\n",
       "      <th>cell_type</th>\n",
       "      <th>technology</th>\n",
       "    </tr>\n",
       "  </thead>\n",
       "  <tbody>\n",
       "    <tr>\n",
       "      <th>0</th>\n",
       "      <td>0</td>\n",
       "      <td>c2150f55becb</td>\n",
       "      <td>CD86</td>\n",
       "      <td>2</td>\n",
       "      <td>27678</td>\n",
       "      <td>HSC</td>\n",
       "      <td>citeseq</td>\n",
       "    </tr>\n",
       "    <tr>\n",
       "      <th>1</th>\n",
       "      <td>1</td>\n",
       "      <td>c2150f55becb</td>\n",
       "      <td>CD274</td>\n",
       "      <td>2</td>\n",
       "      <td>27678</td>\n",
       "      <td>HSC</td>\n",
       "      <td>citeseq</td>\n",
       "    </tr>\n",
       "    <tr>\n",
       "      <th>2</th>\n",
       "      <td>2</td>\n",
       "      <td>c2150f55becb</td>\n",
       "      <td>CD270</td>\n",
       "      <td>2</td>\n",
       "      <td>27678</td>\n",
       "      <td>HSC</td>\n",
       "      <td>citeseq</td>\n",
       "    </tr>\n",
       "    <tr>\n",
       "      <th>3</th>\n",
       "      <td>3</td>\n",
       "      <td>c2150f55becb</td>\n",
       "      <td>CD155</td>\n",
       "      <td>2</td>\n",
       "      <td>27678</td>\n",
       "      <td>HSC</td>\n",
       "      <td>citeseq</td>\n",
       "    </tr>\n",
       "    <tr>\n",
       "      <th>4</th>\n",
       "      <td>4</td>\n",
       "      <td>c2150f55becb</td>\n",
       "      <td>CD112</td>\n",
       "      <td>2</td>\n",
       "      <td>27678</td>\n",
       "      <td>HSC</td>\n",
       "      <td>citeseq</td>\n",
       "    </tr>\n",
       "    <tr>\n",
       "      <th>...</th>\n",
       "      <td>...</td>\n",
       "      <td>...</td>\n",
       "      <td>...</td>\n",
       "      <td>...</td>\n",
       "      <td>...</td>\n",
       "      <td>...</td>\n",
       "      <td>...</td>\n",
       "    </tr>\n",
       "    <tr>\n",
       "      <th>65744175</th>\n",
       "      <td>65744175</td>\n",
       "      <td>2c53aa67933d</td>\n",
       "      <td>ENSG00000134419</td>\n",
       "      <td>7</td>\n",
       "      <td>27678</td>\n",
       "      <td>hidden</td>\n",
       "      <td>multiome</td>\n",
       "    </tr>\n",
       "    <tr>\n",
       "      <th>65744176</th>\n",
       "      <td>65744176</td>\n",
       "      <td>2c53aa67933d</td>\n",
       "      <td>ENSG00000186862</td>\n",
       "      <td>7</td>\n",
       "      <td>27678</td>\n",
       "      <td>hidden</td>\n",
       "      <td>multiome</td>\n",
       "    </tr>\n",
       "    <tr>\n",
       "      <th>65744177</th>\n",
       "      <td>65744177</td>\n",
       "      <td>2c53aa67933d</td>\n",
       "      <td>ENSG00000170959</td>\n",
       "      <td>7</td>\n",
       "      <td>27678</td>\n",
       "      <td>hidden</td>\n",
       "      <td>multiome</td>\n",
       "    </tr>\n",
       "    <tr>\n",
       "      <th>65744178</th>\n",
       "      <td>65744178</td>\n",
       "      <td>2c53aa67933d</td>\n",
       "      <td>ENSG00000107874</td>\n",
       "      <td>7</td>\n",
       "      <td>27678</td>\n",
       "      <td>hidden</td>\n",
       "      <td>multiome</td>\n",
       "    </tr>\n",
       "    <tr>\n",
       "      <th>65744179</th>\n",
       "      <td>65744179</td>\n",
       "      <td>2c53aa67933d</td>\n",
       "      <td>ENSG00000166012</td>\n",
       "      <td>7</td>\n",
       "      <td>27678</td>\n",
       "      <td>hidden</td>\n",
       "      <td>multiome</td>\n",
       "    </tr>\n",
       "  </tbody>\n",
       "</table>\n",
       "<p>65744180 rows × 7 columns</p>\n",
       "</div>"
      ],
      "text/plain": [
       "            row_id       cell_id          gene_id  day  donor cell_type  \\\n",
       "0                0  c2150f55becb             CD86    2  27678       HSC   \n",
       "1                1  c2150f55becb            CD274    2  27678       HSC   \n",
       "2                2  c2150f55becb            CD270    2  27678       HSC   \n",
       "3                3  c2150f55becb            CD155    2  27678       HSC   \n",
       "4                4  c2150f55becb            CD112    2  27678       HSC   \n",
       "...            ...           ...              ...  ...    ...       ...   \n",
       "65744175  65744175  2c53aa67933d  ENSG00000134419    7  27678    hidden   \n",
       "65744176  65744176  2c53aa67933d  ENSG00000186862    7  27678    hidden   \n",
       "65744177  65744177  2c53aa67933d  ENSG00000170959    7  27678    hidden   \n",
       "65744178  65744178  2c53aa67933d  ENSG00000107874    7  27678    hidden   \n",
       "65744179  65744179  2c53aa67933d  ENSG00000166012    7  27678    hidden   \n",
       "\n",
       "         technology  \n",
       "0           citeseq  \n",
       "1           citeseq  \n",
       "2           citeseq  \n",
       "3           citeseq  \n",
       "4           citeseq  \n",
       "...             ...  \n",
       "65744175   multiome  \n",
       "65744176   multiome  \n",
       "65744177   multiome  \n",
       "65744178   multiome  \n",
       "65744179   multiome  \n",
       "\n",
       "[65744180 rows x 7 columns]"
      ]
     },
     "execution_count": 27,
     "metadata": {},
     "output_type": "execute_result"
    }
   ],
   "source": [
    "evaluation_ids = sub.merge(dff, on=['cell_id'], how='left')\n",
    "evaluation_ids"
   ]
  },
  {
   "cell_type": "code",
   "execution_count": 29,
   "metadata": {},
   "outputs": [
    {
     "data": {
      "text/plain": [
       "array(['HSC', 'EryP', 'NeuP', 'MasP', 'MkP', 'BP', 'MoP', 'hidden'],\n",
       "      dtype=object)"
      ]
     },
     "execution_count": 29,
     "metadata": {},
     "output_type": "execute_result"
    }
   ],
   "source": [
    "evaluation_ids['cell_type'].unique()"
   ]
  }
 ],
 "metadata": {
  "kaggle": {
   "accelerator": "gpu",
   "dataSources": [
    {
     "databundleVersionId": 4230952,
     "sourceId": 38128,
     "sourceType": "competition"
    },
    {
     "datasetId": 2638820,
     "sourceId": 4521534,
     "sourceType": "datasetVersion"
    }
   ],
   "dockerImageVersionId": 30302,
   "isGpuEnabled": true,
   "isInternetEnabled": false,
   "language": "python",
   "sourceType": "notebook"
  },
  "kernelspec": {
   "display_name": "py3.7",
   "language": "python",
   "name": "py3.7"
  },
  "language_info": {
   "codemirror_mode": {
    "name": "ipython",
    "version": 3
   },
   "file_extension": ".py",
   "mimetype": "text/x-python",
   "name": "python",
   "nbconvert_exporter": "python",
   "pygments_lexer": "ipython3",
   "version": "3.7.12"
  }
 },
 "nbformat": 4,
 "nbformat_minor": 4
}
